{
 "cells": [
  {
   "cell_type": "markdown",
   "metadata": {},
   "source": [
    "# Junior Data Engineer @ Welltory"
   ]
  },
  {
   "cell_type": "markdown",
   "metadata": {},
   "source": [
    "## Сделал Саша Михайлов\n",
    "\n",
    "\n",
    "Короткое резюме на [Google Drive](https://docs.google.com/document/d/1JWXxC06veqwTMu_nyUThv1OiIh_xJbSLBti6jRxtPFk/edit?usp=sharing\n",
    "), подробнее — в [блоге](https://sashamikhailov.ru/blog/all/cv/)\n",
    "\n",
    "Телеграм [@SashaMikhailov](https://tlg.name/SashaMikhailov), почта sasha@sashamikhailov.ru\n",
    "\n",
    "[Сайт и блог](https://sashamikhailov.ru/blog/) × [Фейсбук](https://www.fb.com/sashamikhailovru) × [GitHub](https://github.com/Sasha-Mikhailov) "
   ]
  },
  {
   "cell_type": "markdown",
   "metadata": {},
   "source": [
    "# Вакансия\n",
    "\n",
    "Тестовое задание подразумевает две вещи:\n",
    "1. Текст, в котором виден ход ваших мыслей, ваши гипотезы и обоснование принятого подхода к решению.\n",
    "2. Код с решением на примере данных и визуализацией результата (юпитер ноутбук).\n",
    "\n",
    "\n",
    "**Задача звучит так - создать функцию на языке Python, которая для указанного произвольного пользователя берет его историю шагов и на выходе  отдает список размеченных дней:**\n",
    "1. неизвестно \n",
    "2. обычный \n",
    "3. необычный\n",
    " \n",
    "**Ваша цель - максимально попасть в субъективное ощущение пользователя**, чтобы он согласился с вашим мнением о том, что сегодня он прошел 10 000 шагов и это необычно. Или сегодня он прошел 6 000 шагов и в этом нет ничего необычного.  \n",
    "\n",
    "**Текстовый документ должен отражать ваши рассуждения о решении этой задачи** (вводная часть ноутбука), обоснование выбранного подхода.  \n",
    "\n",
    "**Код должен содержать реализацию вашего решения** на примере данных, которые прилагаются к тестовому заданию и предоставлять визуальное обоснование работоспособности решения, включая то, как вы выбираете тесты для проверки работоспособности.  \n",
    "\n",
    "> _Поскольку абсолютное большинство наших разработок делается на языке Python, решение мы ожидаем на нем же. Ну, плюс к этому, ноутбуки желательно оформлять так, чтобы их можно было прочитать и перезапустить_ :)  \n",
    "\n",
    "**Описание данных**:  \n",
    "Записи по шагам одного человека (в качестве примера) в течение около 3-х месяцев. Каждая запись - это некий промежуток времени с известным количеством шагов в этот промежуток. Так присылают данные фитнес-трекеры, как именно они выбирают этот промежуток - неизвестно. Данные стоит считать корректными.  \n",
    "\n",
    "\n",
    "Присылайте ваши ноутбуки в телеграм @smorodnikova вместе со своим резюме и вам скажут, проходите ли вы на следующий этап (собеседование). Будет здорово, если вы напишете, чем вам интересна эта вакансия. \n",
    "\n",
    "\n",
    "[оригинал задания в Гугл доке](https://docs.google.com/document/d/1Egz50Sc9AmBROXMA__fqWaGozR5dE3frQZjQXxsQzb0/edit?usp=sharing)"
   ]
  },
  {
   "cell_type": "code",
   "execution_count": 1,
   "metadata": {},
   "outputs": [],
   "source": [
    "import pandas as pd\n",
    "import numpy as np\n",
    "import datetime\n",
    "\n",
    "import matplotlib.pyplot as plt\n",
    "import seaborn as sns"
   ]
  },
  {
   "cell_type": "code",
   "execution_count": 2,
   "metadata": {},
   "outputs": [],
   "source": [
    "# set matplotlib defaults\n",
    "plt.rcParams[\"axes.spines.left\"] = False\n",
    "plt.rcParams[\"axes.spines.bottom\"] = False\n",
    "plt.rcParams[\"axes.spines.top\"] = False\n",
    "plt.rcParams[\"axes.spines.right\"] = False\n",
    "\n",
    "plt.rcParams[\"axes.formatter.useoffset\"] = False\n",
    "plt.rcParams[\"figure.figsize\"] = (12, 4)"
   ]
  },
  {
   "cell_type": "code",
   "execution_count": 3,
   "metadata": {},
   "outputs": [],
   "source": [
    "def nice_plot(rot = -90):\n",
    "    plt.xticks(rotation = rot,\n",
    "               size = 'small',\n",
    "               ha = 'center')\n",
    "    plt.gca().tick_params(axis = 'both', \n",
    "                   color = 'w')\n",
    "\n",
    "    plt.gca().set_xlabel('')\n",
    "    plt.gca().set_ylabel('')\n",
    "\n",
    "    plt.show()"
   ]
  },
  {
   "cell_type": "markdown",
   "metadata": {},
   "source": [
    "## Загружаем данные"
   ]
  },
  {
   "cell_type": "code",
   "execution_count": 4,
   "metadata": {},
   "outputs": [
    {
     "data": {
      "text/html": [
       "<div>\n",
       "<style scoped>\n",
       "    .dataframe tbody tr th:only-of-type {\n",
       "        vertical-align: middle;\n",
       "    }\n",
       "\n",
       "    .dataframe tbody tr th {\n",
       "        vertical-align: top;\n",
       "    }\n",
       "\n",
       "    .dataframe thead th {\n",
       "        text-align: right;\n",
       "    }\n",
       "</style>\n",
       "<table border=\"1\" class=\"dataframe\">\n",
       "  <thead>\n",
       "    <tr style=\"text-align: right;\">\n",
       "      <th></th>\n",
       "      <th>Time End</th>\n",
       "      <th>Time End Local Tz</th>\n",
       "      <th>Time Offset</th>\n",
       "      <th>Time Start</th>\n",
       "      <th>Time Start Local Tz</th>\n",
       "      <th>User ID</th>\n",
       "      <th>Value</th>\n",
       "    </tr>\n",
       "  </thead>\n",
       "  <tbody>\n",
       "    <tr>\n",
       "      <th>0</th>\n",
       "      <td>2019-05-05T09:40:00+03:00</td>\n",
       "      <td>2019-05-05T12:40:00+03:00</td>\n",
       "      <td>10800</td>\n",
       "      <td>2019-05-05T09:39:59+03:00</td>\n",
       "      <td>2019-05-05T12:39:59+03:00</td>\n",
       "      <td>2166</td>\n",
       "      <td>1.0</td>\n",
       "    </tr>\n",
       "    <tr>\n",
       "      <th>1</th>\n",
       "      <td>2019-05-05T11:13:29+03:00</td>\n",
       "      <td>2019-05-05T14:13:29+03:00</td>\n",
       "      <td>10800</td>\n",
       "      <td>2019-05-05T11:12:51+03:00</td>\n",
       "      <td>2019-05-05T14:12:51+03:00</td>\n",
       "      <td>2166</td>\n",
       "      <td>34.0</td>\n",
       "    </tr>\n",
       "    <tr>\n",
       "      <th>2</th>\n",
       "      <td>2019-05-05T12:07:42+03:00</td>\n",
       "      <td>2019-05-05T15:07:42+03:00</td>\n",
       "      <td>10800</td>\n",
       "      <td>2019-05-05T12:07:39+03:00</td>\n",
       "      <td>2019-05-05T15:07:39+03:00</td>\n",
       "      <td>2166</td>\n",
       "      <td>1.0</td>\n",
       "    </tr>\n",
       "  </tbody>\n",
       "</table>\n",
       "</div>"
      ],
      "text/plain": [
       "                    Time End          Time End Local Tz  Time Offset  \\\n",
       "0  2019-05-05T09:40:00+03:00  2019-05-05T12:40:00+03:00        10800   \n",
       "1  2019-05-05T11:13:29+03:00  2019-05-05T14:13:29+03:00        10800   \n",
       "2  2019-05-05T12:07:42+03:00  2019-05-05T15:07:42+03:00        10800   \n",
       "\n",
       "                  Time Start        Time Start Local Tz  User ID  Value  \n",
       "0  2019-05-05T09:39:59+03:00  2019-05-05T12:39:59+03:00     2166    1.0  \n",
       "1  2019-05-05T11:12:51+03:00  2019-05-05T14:12:51+03:00     2166   34.0  \n",
       "2  2019-05-05T12:07:39+03:00  2019-05-05T15:07:39+03:00     2166    1.0  "
      ]
     },
     "execution_count": 4,
     "metadata": {},
     "output_type": "execute_result"
    }
   ],
   "source": [
    "FILENAME = 'query_result_2019-12-24T07_29_06.659397Z.csv'\n",
    "\n",
    "df = pd.read_csv(FILENAME)\n",
    "df.head(3)"
   ]
  },
  {
   "cell_type": "markdown",
   "metadata": {},
   "source": [
    "## Предобработка"
   ]
  },
  {
   "cell_type": "markdown",
   "metadata": {},
   "source": [
    "смотрим типы данных и пропуски"
   ]
  },
  {
   "cell_type": "code",
   "execution_count": 5,
   "metadata": {
    "scrolled": true
   },
   "outputs": [
    {
     "name": "stdout",
     "output_type": "stream",
     "text": [
      "<class 'pandas.core.frame.DataFrame'>\n",
      "RangeIndex: 39671 entries, 0 to 39670\n",
      "Data columns (total 7 columns):\n",
      " #   Column               Non-Null Count  Dtype  \n",
      "---  ------               --------------  -----  \n",
      " 0   Time End             39671 non-null  object \n",
      " 1   Time End Local Tz    39671 non-null  object \n",
      " 2   Time Offset          39671 non-null  int64  \n",
      " 3   Time Start           39671 non-null  object \n",
      " 4   Time Start Local Tz  39671 non-null  object \n",
      " 5   User ID              39671 non-null  int64  \n",
      " 6   Value                39671 non-null  float64\n",
      "dtypes: float64(1), int64(2), object(4)\n",
      "memory usage: 2.1+ MB\n"
     ]
    }
   ],
   "source": [
    "df.info()"
   ]
  },
  {
   "cell_type": "markdown",
   "metadata": {},
   "source": [
    "убираем лишнюю информацию — айди юзера (он одинаковый) и дубликат времени (оставим только местное время)"
   ]
  },
  {
   "cell_type": "code",
   "execution_count": 6,
   "metadata": {},
   "outputs": [],
   "source": [
    "df.drop(['Time End', 'Time Start', 'User ID'], inplace = True, axis = 1)"
   ]
  },
  {
   "cell_type": "markdown",
   "metadata": {},
   "source": [
    "переводим типы данных к нужным"
   ]
  },
  {
   "cell_type": "code",
   "execution_count": 7,
   "metadata": {},
   "outputs": [
    {
     "data": {
      "text/html": [
       "<div>\n",
       "<style scoped>\n",
       "    .dataframe tbody tr th:only-of-type {\n",
       "        vertical-align: middle;\n",
       "    }\n",
       "\n",
       "    .dataframe tbody tr th {\n",
       "        vertical-align: top;\n",
       "    }\n",
       "\n",
       "    .dataframe thead th {\n",
       "        text-align: right;\n",
       "    }\n",
       "</style>\n",
       "<table border=\"1\" class=\"dataframe\">\n",
       "  <thead>\n",
       "    <tr style=\"text-align: right;\">\n",
       "      <th></th>\n",
       "      <th>Time End Local Tz</th>\n",
       "      <th>Time Offset</th>\n",
       "      <th>Time Start Local Tz</th>\n",
       "      <th>Value</th>\n",
       "    </tr>\n",
       "  </thead>\n",
       "  <tbody>\n",
       "    <tr>\n",
       "      <th>0</th>\n",
       "      <td>2019-05-05 12:40:00+03:00</td>\n",
       "      <td>10800</td>\n",
       "      <td>2019-05-05 12:39:59+03:00</td>\n",
       "      <td>1</td>\n",
       "    </tr>\n",
       "    <tr>\n",
       "      <th>1</th>\n",
       "      <td>2019-05-05 14:13:29+03:00</td>\n",
       "      <td>10800</td>\n",
       "      <td>2019-05-05 14:12:51+03:00</td>\n",
       "      <td>34</td>\n",
       "    </tr>\n",
       "    <tr>\n",
       "      <th>2</th>\n",
       "      <td>2019-05-05 15:07:42+03:00</td>\n",
       "      <td>10800</td>\n",
       "      <td>2019-05-05 15:07:39+03:00</td>\n",
       "      <td>1</td>\n",
       "    </tr>\n",
       "  </tbody>\n",
       "</table>\n",
       "</div>"
      ],
      "text/plain": [
       "          Time End Local Tz  Time Offset       Time Start Local Tz  Value\n",
       "0 2019-05-05 12:40:00+03:00        10800 2019-05-05 12:39:59+03:00      1\n",
       "1 2019-05-05 14:13:29+03:00        10800 2019-05-05 14:12:51+03:00     34\n",
       "2 2019-05-05 15:07:42+03:00        10800 2019-05-05 15:07:39+03:00      1"
      ]
     },
     "execution_count": 7,
     "metadata": {},
     "output_type": "execute_result"
    }
   ],
   "source": [
    "for col in df.columns:\n",
    "    if ('time' in col.lower()) & ~('offset' in col.lower()):\n",
    "        df[col] = pd.to_datetime(df[col])\n",
    "\n",
    "df['Value'] = pd.to_numeric(df['Value'], downcast = 'unsigned')\n",
    "        \n",
    "# df['Time End Local Tz'] = pd.to_datetime(df['Time End Local Tz'])\n",
    "df.head(3)"
   ]
  },
  {
   "cell_type": "markdown",
   "metadata": {},
   "source": [
    "переименовываем колонки для удобства"
   ]
  },
  {
   "cell_type": "code",
   "execution_count": 8,
   "metadata": {},
   "outputs": [],
   "source": [
    "df.columns = ['end_ts', 'offset', 'start_ts', 'steps'] # 'uid',"
   ]
  },
  {
   "cell_type": "markdown",
   "metadata": {},
   "source": [
    "### Ислледуем данные"
   ]
  },
  {
   "cell_type": "markdown",
   "metadata": {},
   "source": [
    "распределние количество шагов (по одному замеру / сессии)"
   ]
  },
  {
   "cell_type": "code",
   "execution_count": 9,
   "metadata": {
    "scrolled": true
   },
   "outputs": [
    {
     "data": {
      "image/png": "[encoded data removed]",
      "text/plain": [
       "<Figure size 864x288 with 1 Axes>"
      ]
     },
     "metadata": {
      "needs_background": "light"
     },
     "output_type": "display_data"
    }
   ],
   "source": [
    "ax = df['steps'].plot(kind = 'hist', bins = 100)\n",
    "nice_plot(rot = 0)"
   ]
  },
  {
   "cell_type": "markdown",
   "metadata": {},
   "source": [
    "посчитаем длину одной сессии и скорость шага"
   ]
  },
  {
   "cell_type": "code",
   "execution_count": 10,
   "metadata": {},
   "outputs": [],
   "source": [
    "df['period_s'] = ((df['end_ts'] - df['start_ts']) / np.timedelta64(1, 's')).astype(int)\n",
    "df['pace'] = np.round(df['period_s'] / df['steps'], 4)"
   ]
  },
  {
   "cell_type": "markdown",
   "metadata": {},
   "source": [
    "распределение длине сессии"
   ]
  },
  {
   "cell_type": "code",
   "execution_count": 11,
   "metadata": {
    "scrolled": false
   },
   "outputs": [
    {
     "data": {
      "image/png": "[encoded data removed]",
      "text/plain": [
       "<Figure size 864x288 with 1 Axes>"
      ]
     },
     "metadata": {
      "needs_background": "light"
     },
     "output_type": "display_data"
    }
   ],
   "source": [
    "ax = df['period_s'].plot(kind = 'hist', bins = 100)\n",
    "nice_plot(rot = 0)"
   ]
  },
  {
   "cell_type": "markdown",
   "metadata": {},
   "source": [
    "распределение по скорости шага  (по одной сессии)"
   ]
  },
  {
   "cell_type": "code",
   "execution_count": 12,
   "metadata": {},
   "outputs": [
    {
     "data": {
      "image/png": "[encoded data removed]",
      "text/plain": [
       "<Figure size 864x288 with 1 Axes>"
      ]
     },
     "metadata": {
      "needs_background": "light"
     },
     "output_type": "display_data"
    }
   ],
   "source": [
    "ax = df['pace'].plot(kind = 'hist', bins = 100)\n",
    "nice_plot(rot = 0)"
   ]
  },
  {
   "cell_type": "markdown",
   "metadata": {},
   "source": [
    "добавим в каком часу была активность"
   ]
  },
  {
   "cell_type": "code",
   "execution_count": 14,
   "metadata": {},
   "outputs": [
    {
     "data": {
      "text/plain": [
       "24"
      ]
     },
     "execution_count": 14,
     "metadata": {},
     "output_type": "execute_result"
    }
   ],
   "source": [
    "df['hour'] = df['start_ts'].dt.hour\n",
    "\n",
    "# check result\n",
    "df['hour'].nunique()"
   ]
  },
  {
   "cell_type": "markdown",
   "metadata": {},
   "source": [
    "распределение активность по времени суток — больше всего с семи до девяти вечера"
   ]
  },
  {
   "cell_type": "code",
   "execution_count": 15,
   "metadata": {},
   "outputs": [
    {
     "data": {
      "image/png": "[encoded data removed]",
      "text/plain": [
       "<Figure size 864x288 with 1 Axes>"
      ]
     },
     "metadata": {
      "needs_background": "light"
     },
     "output_type": "display_data"
    }
   ],
   "source": [
    "ax = df['hour'].plot(kind = 'hist', bins = 24)\n",
    "nice_plot(rot = 0)"
   ]
  },
  {
   "cell_type": "markdown",
   "metadata": {},
   "source": [
    "добавим день недели (0 — понедельник, 6 — воскресение)"
   ]
  },
  {
   "cell_type": "code",
   "execution_count": 16,
   "metadata": {},
   "outputs": [],
   "source": [
    "df['weekday'] = df['start_ts'].dt.weekday"
   ]
  },
  {
   "cell_type": "markdown",
   "metadata": {},
   "source": [
    "распределение количества сессий по дням недели — четкий спад к пятнице, пн-вт-сб-вс примерно вровень"
   ]
  },
  {
   "cell_type": "code",
   "execution_count": 17,
   "metadata": {},
   "outputs": [
    {
     "data": {
      "image/png": "[encoded data removed]",
      "text/plain": [
       "<Figure size 864x288 with 1 Axes>"
      ]
     },
     "metadata": {
      "needs_background": "light"
     },
     "output_type": "display_data"
    }
   ],
   "source": [
    "ax = df['weekday'].plot(kind = 'hist', bins = 7)\n",
    "nice_plot(rot = 0)"
   ]
  },
  {
   "cell_type": "markdown",
   "metadata": {},
   "source": [
    "описательная статистика (только для колонок, где это имеет смысл)"
   ]
  },
  {
   "cell_type": "code",
   "execution_count": 18,
   "metadata": {},
   "outputs": [
    {
     "data": {
      "text/html": [
       "<div>\n",
       "<style scoped>\n",
       "    .dataframe tbody tr th:only-of-type {\n",
       "        vertical-align: middle;\n",
       "    }\n",
       "\n",
       "    .dataframe tbody tr th {\n",
       "        vertical-align: top;\n",
       "    }\n",
       "\n",
       "    .dataframe thead th {\n",
       "        text-align: right;\n",
       "    }\n",
       "</style>\n",
       "<table border=\"1\" class=\"dataframe\">\n",
       "  <thead>\n",
       "    <tr style=\"text-align: right;\">\n",
       "      <th></th>\n",
       "      <th>steps</th>\n",
       "      <th>period_s</th>\n",
       "      <th>pace</th>\n",
       "    </tr>\n",
       "  </thead>\n",
       "  <tbody>\n",
       "    <tr>\n",
       "      <th>count</th>\n",
       "      <td>39671.000000</td>\n",
       "      <td>39671.000000</td>\n",
       "      <td>39671.000000</td>\n",
       "    </tr>\n",
       "    <tr>\n",
       "      <th>mean</th>\n",
       "      <td>39.936024</td>\n",
       "      <td>54.111795</td>\n",
       "      <td>3.716254</td>\n",
       "    </tr>\n",
       "    <tr>\n",
       "      <th>std</th>\n",
       "      <td>129.078392</td>\n",
       "      <td>174.092053</td>\n",
       "      <td>20.699438</td>\n",
       "    </tr>\n",
       "    <tr>\n",
       "      <th>min</th>\n",
       "      <td>1.000000</td>\n",
       "      <td>1.000000</td>\n",
       "      <td>0.250000</td>\n",
       "    </tr>\n",
       "    <tr>\n",
       "      <th>25%</th>\n",
       "      <td>4.000000</td>\n",
       "      <td>3.000000</td>\n",
       "      <td>0.602000</td>\n",
       "    </tr>\n",
       "    <tr>\n",
       "      <th>50%</th>\n",
       "      <td>8.000000</td>\n",
       "      <td>13.000000</td>\n",
       "      <td>0.836400</td>\n",
       "    </tr>\n",
       "    <tr>\n",
       "      <th>75%</th>\n",
       "      <td>49.000000</td>\n",
       "      <td>59.000000</td>\n",
       "      <td>1.500000</td>\n",
       "    </tr>\n",
       "    <tr>\n",
       "      <th>max</th>\n",
       "      <td>13508.000000</td>\n",
       "      <td>16083.000000</td>\n",
       "      <td>596.000000</td>\n",
       "    </tr>\n",
       "  </tbody>\n",
       "</table>\n",
       "</div>"
      ],
      "text/plain": [
       "              steps      period_s          pace\n",
       "count  39671.000000  39671.000000  39671.000000\n",
       "mean      39.936024     54.111795      3.716254\n",
       "std      129.078392    174.092053     20.699438\n",
       "min        1.000000      1.000000      0.250000\n",
       "25%        4.000000      3.000000      0.602000\n",
       "50%        8.000000     13.000000      0.836400\n",
       "75%       49.000000     59.000000      1.500000\n",
       "max    13508.000000  16083.000000    596.000000"
      ]
     },
     "execution_count": 18,
     "metadata": {},
     "output_type": "execute_result"
    }
   ],
   "source": [
    "df[['steps', 'period_s', 'pace']].describe()"
   ]
  },
  {
   "cell_type": "markdown",
   "metadata": {},
   "source": [
    "проверяем сколько сессий приходилось на полночь (начинается в одном дне, а заканчивается — в другом)"
   ]
  },
  {
   "cell_type": "code",
   "execution_count": 18,
   "metadata": {},
   "outputs": [
    {
     "data": {
      "text/plain": [
       "0"
      ]
     },
     "execution_count": 18,
     "metadata": {},
     "output_type": "execute_result"
    }
   ],
   "source": [
    "df['start_day'] = df['start_ts'].values.astype('datetime64[D]')\n",
    "df['end_day'] = df['end_ts'].values.astype('datetime64[D]')\n",
    "\n",
    "df.shape[0] - sum(df['start_day'] == df['end_day'])"
   ]
  },
  {
   "cell_type": "markdown",
   "metadata": {},
   "source": [
    "Количество сессий по дням"
   ]
  },
  {
   "cell_type": "code",
   "execution_count": 19,
   "metadata": {},
   "outputs": [
    {
     "data": {
      "image/png": "[encoded data removed]",
      "text/plain": [
       "<Figure size 1080x360 with 1 Axes>"
      ]
     },
     "metadata": {
      "needs_background": "light"
     },
     "output_type": "display_data"
    }
   ],
   "source": [
    "plt.figure(figsize = (15, 5))\n",
    "\n",
    "ax = sns.countplot(df['start_day'])\n",
    "\n",
    "ax.set_xticklabels(df['start_day'].sort_values().dt.strftime('%d-%m-%y, %A').unique())\n",
    "\n",
    "nice_plot(rot = -90)"
   ]
  },
  {
   "cell_type": "markdown",
   "metadata": {},
   "source": [
    "добавим на график все дни по порядку, чтобы было видно пустые дни (добавился только один)"
   ]
  },
  {
   "cell_type": "code",
   "execution_count": 20,
   "metadata": {},
   "outputs": [],
   "source": [
    "sess_by_days = df.groupby('start_day').agg({'start_ts': 'count'})\n",
    "# sess_by_days.head()"
   ]
  },
  {
   "cell_type": "code",
   "execution_count": 21,
   "metadata": {},
   "outputs": [],
   "source": [
    "full_dates = (pd.date_range(df['start_day'].min(), \n",
    "                            df['start_day'].max()))\n",
    "dates_index = pd.DataFrame(index = full_dates).reset_index()\n",
    "\n",
    "full_sessions = (dates_index.merge(sess_by_days.reset_index(),\n",
    "                                  how = 'left',\n",
    "                                  left_on = 'index',\n",
    "                                  right_on = 'start_day')\n",
    "                             .drop(['start_day'], axis = 1)\n",
    "                             .rename(columns = {'start_ts': 'sessions',\n",
    "                                               'index': 'day'})\n",
    "                )\n",
    "full_sessions['sessions'] = full_sessions['sessions'].fillna(0).astype(int)\n",
    "\n",
    "# full_sessions.head()"
   ]
  },
  {
   "cell_type": "code",
   "execution_count": 22,
   "metadata": {},
   "outputs": [
    {
     "data": {
      "image/png": "[encoded data removed]",
      "text/plain": [
       "<Figure size 1080x360 with 1 Axes>"
      ]
     },
     "metadata": {
      "needs_background": "light"
     },
     "output_type": "display_data"
    }
   ],
   "source": [
    "ax = full_sessions.set_index('day').plot(kind = 'bar', \n",
    "                                         figsize = (15,5), \n",
    "                                         legend = False)\n",
    "\n",
    "ax.set_title('Number of sessions reported per day')\n",
    "\n",
    "ax.set_xticklabels(full_sessions['day'].dt.strftime('%d-%m-%y, %A'))\n",
    "\n",
    "nice_plot(rot = -90)"
   ]
  },
  {
   "cell_type": "code",
   "execution_count": null,
   "metadata": {},
   "outputs": [],
   "source": []
  },
  {
   "cell_type": "markdown",
   "metadata": {},
   "source": [
    "## Агрегация данных по дням"
   ]
  },
  {
   "cell_type": "markdown",
   "metadata": {},
   "source": [
    "Соберём основные данные по дням\n",
    "\n",
    "steps — шаги  \n",
    "  \n",
    "sessions_cnt — количество сессий измерений   \n",
    "sessions_ttl_s — общая продолжительность сессий  \n",
    "  \n",
    "pace_avg — средняя скорость шага  \n",
    "pace_median — медианная скорость шага (для оценки скошенности данных)  \n",
    "  \n",
    "timezone_current — текущий часовой пояс  \n",
    "timezones_today — количество часовых поясов за день  \n",
    "timezone_changed — если вчера был другой часовой пояс (т.е. был перелёт, возможно)  \n",
    "  \n",
    "weekday — день недели  \n"
   ]
  },
  {
   "cell_type": "code",
   "execution_count": 23,
   "metadata": {},
   "outputs": [
    {
     "data": {
      "text/html": [
       "<div>\n",
       "<style scoped>\n",
       "    .dataframe tbody tr th:only-of-type {\n",
       "        vertical-align: middle;\n",
       "    }\n",
       "\n",
       "    .dataframe tbody tr th {\n",
       "        vertical-align: top;\n",
       "    }\n",
       "\n",
       "    .dataframe thead th {\n",
       "        text-align: right;\n",
       "    }\n",
       "</style>\n",
       "<table border=\"1\" class=\"dataframe\">\n",
       "  <thead>\n",
       "    <tr style=\"text-align: right;\">\n",
       "      <th></th>\n",
       "      <th>steps</th>\n",
       "      <th>sessions_cnt</th>\n",
       "      <th>pace_avg</th>\n",
       "      <th>timezone_current</th>\n",
       "      <th>sessions_ttl_s</th>\n",
       "      <th>pace_median</th>\n",
       "      <th>weekday</th>\n",
       "      <th>timezones_today</th>\n",
       "    </tr>\n",
       "    <tr>\n",
       "      <th>start_day</th>\n",
       "      <th></th>\n",
       "      <th></th>\n",
       "      <th></th>\n",
       "      <th></th>\n",
       "      <th></th>\n",
       "      <th></th>\n",
       "      <th></th>\n",
       "      <th></th>\n",
       "    </tr>\n",
       "  </thead>\n",
       "  <tbody>\n",
       "    <tr>\n",
       "      <th>2019-08-08</th>\n",
       "      <td>7857</td>\n",
       "      <td>159</td>\n",
       "      <td>1.417921</td>\n",
       "      <td>10800</td>\n",
       "      <td>10295</td>\n",
       "      <td>0.8125</td>\n",
       "      <td>3</td>\n",
       "      <td>0</td>\n",
       "    </tr>\n",
       "    <tr>\n",
       "      <th>2019-06-27</th>\n",
       "      <td>13869</td>\n",
       "      <td>293</td>\n",
       "      <td>7.796731</td>\n",
       "      <td>10800</td>\n",
       "      <td>26571</td>\n",
       "      <td>1.5000</td>\n",
       "      <td>3</td>\n",
       "      <td>0</td>\n",
       "    </tr>\n",
       "    <tr>\n",
       "      <th>2019-06-13</th>\n",
       "      <td>17569</td>\n",
       "      <td>297</td>\n",
       "      <td>4.897948</td>\n",
       "      <td>10800</td>\n",
       "      <td>23061</td>\n",
       "      <td>1.0000</td>\n",
       "      <td>3</td>\n",
       "      <td>0</td>\n",
       "    </tr>\n",
       "  </tbody>\n",
       "</table>\n",
       "</div>"
      ],
      "text/plain": [
       "            steps  sessions_cnt  pace_avg  timezone_current  sessions_ttl_s  \\\n",
       "start_day                                                                     \n",
       "2019-08-08   7857           159  1.417921             10800           10295   \n",
       "2019-06-27  13869           293  7.796731             10800           26571   \n",
       "2019-06-13  17569           297  4.897948             10800           23061   \n",
       "\n",
       "            pace_median  weekday  timezones_today  \n",
       "start_day                                          \n",
       "2019-08-08       0.8125        3                0  \n",
       "2019-06-27       1.5000        3                0  \n",
       "2019-06-13       1.0000        3                0  "
      ]
     },
     "execution_count": 23,
     "metadata": {},
     "output_type": "execute_result"
    }
   ],
   "source": [
    "by_days = (df.groupby('start_day').agg({'steps': 'sum',\n",
    "                                        'period_s': 'count',\n",
    "                                        'pace': 'mean',\n",
    "                                        'offset': 'mean',\n",
    "                                      })\n",
    "                                .rename(columns = {'period_s': 'sessions_cnt',\n",
    "                                                  'pace': 'pace_avg',\n",
    "                                                  'offset': 'timezone_current',})\n",
    "           .join(df.groupby('start_day').agg({'period_s': 'sum',\n",
    "                                              'pace': 'median',\n",
    "                                              'weekday': 'first',\n",
    "                                              'offset': 'nunique',\n",
    "                                              })\n",
    "                                .rename(columns = {'period_s': 'sessions_ttl_s',\n",
    "                                                  'pace': 'pace_median',\n",
    "                                                  'offset': 'timezones_today'}))\n",
    "           \n",
    "            )\n",
    "# if unique timezones == 1, then no zones were changed during the day; \n",
    "# assign a zero there then\n",
    "by_days['timezones_today'] = by_days['timezones_today'] - 1\n",
    "\n",
    "by_days.sample(3)"
   ]
  },
  {
   "cell_type": "code",
   "execution_count": 24,
   "metadata": {},
   "outputs": [],
   "source": [
    "by_days = dates_index.set_index('index').merge(by_days,\n",
    "                                              how = 'left',\n",
    "                                              left_index = True,\n",
    "                                              right_index = True).fillna(0)"
   ]
  },
  {
   "cell_type": "code",
   "execution_count": 25,
   "metadata": {},
   "outputs": [],
   "source": [
    "# check if timezone changed previous day\n",
    "# replace zeros with median to check with\n",
    "by_days['timezone_current'].replace(0, \n",
    "                                    by_days['timezone_current'].median(),\n",
    "                                    inplace = True)\n",
    "# fill NaN on first position (appeared after shift) \n",
    "# with first value in that Series\n",
    "# replace boolean with 0 and 1\n",
    "by_days['timezone_changed'] = (by_days['timezone_current'] == \n",
    "                               by_days['timezone_current'].shift(1)\n",
    "                                                          .fillna(by_days.iloc[0]['timezone_current'])\n",
    "                               ).map({True: 0, \n",
    "                                      False: 1})\n",
    "\n",
    "# by_days.sample(3)"
   ]
  },
  {
   "cell_type": "code",
   "execution_count": 26,
   "metadata": {},
   "outputs": [
    {
     "data": {
      "text/html": [
       "<div>\n",
       "<style scoped>\n",
       "    .dataframe tbody tr th:only-of-type {\n",
       "        vertical-align: middle;\n",
       "    }\n",
       "\n",
       "    .dataframe tbody tr th {\n",
       "        vertical-align: top;\n",
       "    }\n",
       "\n",
       "    .dataframe thead th {\n",
       "        text-align: right;\n",
       "    }\n",
       "</style>\n",
       "<table border=\"1\" class=\"dataframe\">\n",
       "  <thead>\n",
       "    <tr style=\"text-align: right;\">\n",
       "      <th></th>\n",
       "      <th>steps</th>\n",
       "      <th>sessions_cnt</th>\n",
       "      <th>pace_avg</th>\n",
       "      <th>timezone_current</th>\n",
       "      <th>sessions_ttl_s</th>\n",
       "      <th>pace_median</th>\n",
       "      <th>weekday</th>\n",
       "      <th>timezones_today</th>\n",
       "      <th>timezone_changed</th>\n",
       "    </tr>\n",
       "    <tr>\n",
       "      <th>index</th>\n",
       "      <th></th>\n",
       "      <th></th>\n",
       "      <th></th>\n",
       "      <th></th>\n",
       "      <th></th>\n",
       "      <th></th>\n",
       "      <th></th>\n",
       "      <th></th>\n",
       "      <th></th>\n",
       "    </tr>\n",
       "  </thead>\n",
       "  <tbody>\n",
       "    <tr>\n",
       "      <th>2019-06-29</th>\n",
       "      <td>17440.0</td>\n",
       "      <td>373.0</td>\n",
       "      <td>4.058691</td>\n",
       "      <td>7200.0</td>\n",
       "      <td>24538.0</td>\n",
       "      <td>1.00000</td>\n",
       "      <td>5.0</td>\n",
       "      <td>0.0</td>\n",
       "      <td>1</td>\n",
       "    </tr>\n",
       "    <tr>\n",
       "      <th>2019-06-30</th>\n",
       "      <td>15456.0</td>\n",
       "      <td>308.0</td>\n",
       "      <td>4.412109</td>\n",
       "      <td>10800.0</td>\n",
       "      <td>25128.0</td>\n",
       "      <td>1.33330</td>\n",
       "      <td>6.0</td>\n",
       "      <td>0.0</td>\n",
       "      <td>1</td>\n",
       "    </tr>\n",
       "    <tr>\n",
       "      <th>2019-07-01</th>\n",
       "      <td>18057.0</td>\n",
       "      <td>424.0</td>\n",
       "      <td>8.741811</td>\n",
       "      <td>7200.0</td>\n",
       "      <td>31509.0</td>\n",
       "      <td>1.29815</td>\n",
       "      <td>0.0</td>\n",
       "      <td>0.0</td>\n",
       "      <td>1</td>\n",
       "    </tr>\n",
       "    <tr>\n",
       "      <th>2019-07-08</th>\n",
       "      <td>21236.0</td>\n",
       "      <td>383.0</td>\n",
       "      <td>5.306540</td>\n",
       "      <td>10800.0</td>\n",
       "      <td>27734.0</td>\n",
       "      <td>1.01900</td>\n",
       "      <td>0.0</td>\n",
       "      <td>0.0</td>\n",
       "      <td>1</td>\n",
       "    </tr>\n",
       "  </tbody>\n",
       "</table>\n",
       "</div>"
      ],
      "text/plain": [
       "              steps  sessions_cnt  pace_avg  timezone_current  sessions_ttl_s  \\\n",
       "index                                                                           \n",
       "2019-06-29  17440.0         373.0  4.058691            7200.0         24538.0   \n",
       "2019-06-30  15456.0         308.0  4.412109           10800.0         25128.0   \n",
       "2019-07-01  18057.0         424.0  8.741811            7200.0         31509.0   \n",
       "2019-07-08  21236.0         383.0  5.306540           10800.0         27734.0   \n",
       "\n",
       "            pace_median  weekday  timezones_today  timezone_changed  \n",
       "index                                                                \n",
       "2019-06-29      1.00000      5.0              0.0                 1  \n",
       "2019-06-30      1.33330      6.0              0.0                 1  \n",
       "2019-07-01      1.29815      0.0              0.0                 1  \n",
       "2019-07-08      1.01900      0.0              0.0                 1  "
      ]
     },
     "execution_count": 26,
     "metadata": {},
     "output_type": "execute_result"
    }
   ],
   "source": [
    "# list of days with previously changed timezone\n",
    "by_days[by_days['timezone_changed'] == 1]"
   ]
  },
  {
   "cell_type": "markdown",
   "metadata": {},
   "source": [
    "данные по количеству шагов по дням"
   ]
  },
  {
   "cell_type": "code",
   "execution_count": 27,
   "metadata": {},
   "outputs": [
    {
     "data": {
      "image/png": "[encoded data removed]",
      "text/plain": [
       "<Figure size 864x288 with 1 Axes>"
      ]
     },
     "metadata": {
      "needs_background": "light"
     },
     "output_type": "display_data"
    }
   ],
   "source": [
    "ax = by_days['steps'].plot(kind = 'bar')\n",
    "\n",
    "plt.gca().set_xticklabels(by_days.index.strftime('%d-%m-%y, %A'))\n",
    "\n",
    "nice_plot()"
   ]
  },
  {
   "cell_type": "markdown",
   "metadata": {},
   "source": [
    "почистим очевидные выбросы перед обучением модели"
   ]
  },
  {
   "cell_type": "markdown",
   "metadata": {},
   "source": [
    "оценим распределение количества шагов по дням на гистограмме и боксплоте"
   ]
  },
  {
   "cell_type": "code",
   "execution_count": 28,
   "metadata": {
    "scrolled": true
   },
   "outputs": [
    {
     "data": {
      "image/png": "[encoded data removed]",
      "text/plain": [
       "<Figure size 864x288 with 1 Axes>"
      ]
     },
     "metadata": {
      "needs_background": "light"
     },
     "output_type": "display_data"
    }
   ],
   "source": [
    "by_days['steps'].plot(kind = 'hist', bins = 25)\n",
    "nice_plot(rot = 0)"
   ]
  },
  {
   "cell_type": "code",
   "execution_count": 29,
   "metadata": {},
   "outputs": [
    {
     "data": {
      "image/png": "[encoded data removed]",
      "text/plain": [
       "<Figure size 720x72 with 1 Axes>"
      ]
     },
     "metadata": {
      "needs_background": "light"
     },
     "output_type": "display_data"
    }
   ],
   "source": [
    "plt.figure(figsize = (10, 1))\n",
    "sns.boxplot(by_days['steps'])\n",
    "nice_plot(rot = 0)"
   ]
  },
  {
   "cell_type": "markdown",
   "metadata": {},
   "source": [
    "посчитаем квартили и интерквартильный размах — IQR"
   ]
  },
  {
   "cell_type": "code",
   "execution_count": 30,
   "metadata": {},
   "outputs": [
    {
     "data": {
      "text/plain": [
       "(11795.75, 17093.75, 5298.0)"
      ]
     },
     "execution_count": 30,
     "metadata": {},
     "output_type": "execute_result"
    }
   ],
   "source": [
    "Q25 = np.quantile(by_days['steps'], 0.25)\n",
    "Q50 = np.quantile(by_days['steps'], 0.50)\n",
    "Q75 = np.quantile(by_days['steps'], 0.75)\n",
    "IQR = Q75 - Q25\n",
    "\n",
    "Q25, Q75, IQR #, IQR * 1.5"
   ]
  },
  {
   "cell_type": "markdown",
   "metadata": {},
   "source": [
    "обозначим очевидные выбросы и нулевые значения"
   ]
  },
  {
   "cell_type": "code",
   "execution_count": 31,
   "metadata": {},
   "outputs": [],
   "source": [
    "by_days['result'] = 0\n",
    "by_days.loc[by_days['steps'] > Q75 + IQR * 1.5, 'result'] = 'unusual (above)'\n",
    "by_days.loc[by_days['steps'] < Q25 - IQR * 1.5, 'result'] = 'unusual (below)'\n",
    "by_days.loc[by_days['steps'] == 0, 'result'] = 'unknown'"
   ]
  },
  {
   "cell_type": "markdown",
   "metadata": {},
   "source": [
    "посчитаем что получилось по выбросам"
   ]
  },
  {
   "cell_type": "code",
   "execution_count": 32,
   "metadata": {
    "scrolled": true
   },
   "outputs": [
    {
     "data": {
      "text/plain": [
       "0                  98\n",
       "unusual (above)     5\n",
       "unusual (below)     2\n",
       "unknown             1\n",
       "Name: result, dtype: int64"
      ]
     },
     "execution_count": 32,
     "metadata": {},
     "output_type": "execute_result"
    }
   ],
   "source": [
    "by_days['result'].value_counts()"
   ]
  },
  {
   "cell_type": "code",
   "execution_count": null,
   "metadata": {},
   "outputs": [],
   "source": []
  },
  {
   "cell_type": "markdown",
   "metadata": {},
   "source": [
    "# Кластеризация через метод к-средних"
   ]
  },
  {
   "cell_type": "code",
   "execution_count": 33,
   "metadata": {},
   "outputs": [],
   "source": [
    "from sklearn.preprocessing import StandardScaler\n",
    "from sklearn.cluster import KMeans\n",
    "from scipy.cluster.hierarchy import dendrogram, linkage"
   ]
  },
  {
   "cell_type": "code",
   "execution_count": 34,
   "metadata": {},
   "outputs": [],
   "source": [
    "def draw_line(y):\n",
    "    plt.axhline(y = y, \n",
    "                color = 'black', \n",
    "                ls = '-', \n",
    "                lw = .5,\n",
    "                alpha = .5)"
   ]
  },
  {
   "cell_type": "code",
   "execution_count": 35,
   "metadata": {},
   "outputs": [],
   "source": [
    "def draw_quantiles(series_obj):\n",
    "    \n",
    "    Q25 = np.quantile(series_obj, 0.25)\n",
    "    Q50 = np.quantile(series_obj, 0.50)\n",
    "    Q75 = np.quantile(series_obj, 0.75)\n",
    "    IQR = Q75 - Q25\n",
    "\n",
    "    draw_line(Q50)\n",
    "    draw_line(Q75 + IQR * 1.5)\n",
    "    draw_line(Q25 - IQR * 1.5)"
   ]
  },
  {
   "cell_type": "markdown",
   "metadata": {},
   "source": [
    "подготовим для обучения срез датафрейма только с «обычными» днями "
   ]
  },
  {
   "cell_type": "code",
   "execution_count": 36,
   "metadata": {},
   "outputs": [],
   "source": [
    "df_slice = (by_days[by_days['result'] == 0]\n",
    "                .drop(['result', \n",
    "                       'timezone_current'], axis = 1))"
   ]
  },
  {
   "cell_type": "markdown",
   "metadata": {},
   "source": [
    "чтобы воспользоваться алгоритмом к-средних, нужно знать количество кластеров. Чтобы понять, сколько кластеров, выведем дендрограмму."
   ]
  },
  {
   "cell_type": "code",
   "execution_count": 37,
   "metadata": {},
   "outputs": [
    {
     "name": "stderr",
     "output_type": "stream",
     "text": [
      "/Users/alex/anaconda3/lib/python3.7/site-packages/sklearn/preprocessing/data.py:645: DataConversionWarning: Data with input dtype int64, float64 were all converted to float64 by StandardScaler.\n",
      "  return self.partial_fit(X, y)\n",
      "/Users/alex/anaconda3/lib/python3.7/site-packages/sklearn/base.py:464: DataConversionWarning: Data with input dtype int64, float64 were all converted to float64 by StandardScaler.\n",
      "  return self.fit(X, **fit_params).transform(X)\n"
     ]
    },
    {
     "data": {
      "image/png": "[encoded data removed]",
      "text/plain": [
       "<Figure size 1080x360 with 1 Axes>"
      ]
     },
     "metadata": {
      "needs_background": "light"
     },
     "output_type": "display_data"
    }
   ],
   "source": [
    "sc = StandardScaler()\n",
    "x_sc = sc.fit_transform(df_slice)\n",
    "linked = linkage(x_sc,\n",
    "                 method = 'ward')\n",
    "\n",
    "plt.figure(figsize = (15, 5))\n",
    "dendrogram(linked, \n",
    "           orientation = 'top')\n",
    "nice_plot()"
   ]
  },
  {
   "cell_type": "markdown",
   "metadata": {},
   "source": [
    "Допустим, что кластеров — 4. \n",
    "\n",
    "Запустим алгоритм и выведем средние значения признаков по получившимся кластерам."
   ]
  },
  {
   "cell_type": "code",
   "execution_count": 38,
   "metadata": {
    "scrolled": true
   },
   "outputs": [
    {
     "data": {
      "text/html": [
       "<style  type=\"text/css\" >\n",
       "    #T_c72a7c38_3cc7_11ea_a22e_784f4383c922row0_col0 {\n",
       "            background-color:  #329b51;\n",
       "            color:  #000000;\n",
       "        }    #T_c72a7c38_3cc7_11ea_a22e_784f4383c922row0_col1 {\n",
       "            background-color:  #e8f6e4;\n",
       "            color:  #000000;\n",
       "        }    #T_c72a7c38_3cc7_11ea_a22e_784f4383c922row0_col2 {\n",
       "            background-color:  #00481d;\n",
       "            color:  #f1f1f1;\n",
       "        }    #T_c72a7c38_3cc7_11ea_a22e_784f4383c922row0_col3 {\n",
       "            background-color:  #2e964d;\n",
       "            color:  #000000;\n",
       "        }    #T_c72a7c38_3cc7_11ea_a22e_784f4383c922row0_col4 {\n",
       "            background-color:  #1e8741;\n",
       "            color:  #000000;\n",
       "        }    #T_c72a7c38_3cc7_11ea_a22e_784f4383c922row0_col5 {\n",
       "            background-color:  #00441b;\n",
       "            color:  #f1f1f1;\n",
       "        }    #T_c72a7c38_3cc7_11ea_a22e_784f4383c922row0_col6 {\n",
       "            background-color:  #f7fcf5;\n",
       "            color:  #000000;\n",
       "        }    #T_c72a7c38_3cc7_11ea_a22e_784f4383c922row0_col7 {\n",
       "            background-color:  #f7fcf5;\n",
       "            color:  #000000;\n",
       "        }    #T_c72a7c38_3cc7_11ea_a22e_784f4383c922row0_col8 {\n",
       "            background-color:  #00441b;\n",
       "            color:  #f1f1f1;\n",
       "        }    #T_c72a7c38_3cc7_11ea_a22e_784f4383c922row1_col0 {\n",
       "            background-color:  #00441b;\n",
       "            color:  #f1f1f1;\n",
       "        }    #T_c72a7c38_3cc7_11ea_a22e_784f4383c922row1_col1 {\n",
       "            background-color:  #daf0d4;\n",
       "            color:  #000000;\n",
       "        }    #T_c72a7c38_3cc7_11ea_a22e_784f4383c922row1_col2 {\n",
       "            background-color:  #00441b;\n",
       "            color:  #f1f1f1;\n",
       "        }    #T_c72a7c38_3cc7_11ea_a22e_784f4383c922row1_col3 {\n",
       "            background-color:  #00441b;\n",
       "            color:  #f1f1f1;\n",
       "        }    #T_c72a7c38_3cc7_11ea_a22e_784f4383c922row1_col4 {\n",
       "            background-color:  #00441b;\n",
       "            color:  #f1f1f1;\n",
       "        }    #T_c72a7c38_3cc7_11ea_a22e_784f4383c922row1_col5 {\n",
       "            background-color:  #bae3b3;\n",
       "            color:  #000000;\n",
       "        }    #T_c72a7c38_3cc7_11ea_a22e_784f4383c922row1_col6 {\n",
       "            background-color:  #f7fcf5;\n",
       "            color:  #000000;\n",
       "        }    #T_c72a7c38_3cc7_11ea_a22e_784f4383c922row1_col7 {\n",
       "            background-color:  #00441b;\n",
       "            color:  #f1f1f1;\n",
       "        }    #T_c72a7c38_3cc7_11ea_a22e_784f4383c922row1_col8 {\n",
       "            background-color:  #f7fcf5;\n",
       "            color:  #000000;\n",
       "        }    #T_c72a7c38_3cc7_11ea_a22e_784f4383c922row2_col0 {\n",
       "            background-color:  #2b934b;\n",
       "            color:  #000000;\n",
       "        }    #T_c72a7c38_3cc7_11ea_a22e_784f4383c922row2_col1 {\n",
       "            background-color:  #00441b;\n",
       "            color:  #f1f1f1;\n",
       "        }    #T_c72a7c38_3cc7_11ea_a22e_784f4383c922row2_col2 {\n",
       "            background-color:  #f7fcf5;\n",
       "            color:  #000000;\n",
       "        }    #T_c72a7c38_3cc7_11ea_a22e_784f4383c922row2_col3 {\n",
       "            background-color:  #a8dca2;\n",
       "            color:  #000000;\n",
       "        }    #T_c72a7c38_3cc7_11ea_a22e_784f4383c922row2_col4 {\n",
       "            background-color:  #f7fcf5;\n",
       "            color:  #000000;\n",
       "        }    #T_c72a7c38_3cc7_11ea_a22e_784f4383c922row2_col5 {\n",
       "            background-color:  #d4eece;\n",
       "            color:  #000000;\n",
       "        }    #T_c72a7c38_3cc7_11ea_a22e_784f4383c922row2_col6 {\n",
       "            background-color:  #f7fcf5;\n",
       "            color:  #000000;\n",
       "        }    #T_c72a7c38_3cc7_11ea_a22e_784f4383c922row2_col7 {\n",
       "            background-color:  #f7fcf5;\n",
       "            color:  #000000;\n",
       "        }    #T_c72a7c38_3cc7_11ea_a22e_784f4383c922row2_col8 {\n",
       "            background-color:  #c9eac2;\n",
       "            color:  #000000;\n",
       "        }    #T_c72a7c38_3cc7_11ea_a22e_784f4383c922row3_col0 {\n",
       "            background-color:  #f7fcf5;\n",
       "            color:  #000000;\n",
       "        }    #T_c72a7c38_3cc7_11ea_a22e_784f4383c922row3_col1 {\n",
       "            background-color:  #f7fcf5;\n",
       "            color:  #000000;\n",
       "        }    #T_c72a7c38_3cc7_11ea_a22e_784f4383c922row3_col2 {\n",
       "            background-color:  #339c52;\n",
       "            color:  #000000;\n",
       "        }    #T_c72a7c38_3cc7_11ea_a22e_784f4383c922row3_col3 {\n",
       "            background-color:  #f7fcf5;\n",
       "            color:  #000000;\n",
       "        }    #T_c72a7c38_3cc7_11ea_a22e_784f4383c922row3_col4 {\n",
       "            background-color:  #80ca80;\n",
       "            color:  #000000;\n",
       "        }    #T_c72a7c38_3cc7_11ea_a22e_784f4383c922row3_col5 {\n",
       "            background-color:  #f7fcf5;\n",
       "            color:  #000000;\n",
       "        }    #T_c72a7c38_3cc7_11ea_a22e_784f4383c922row3_col6 {\n",
       "            background-color:  #f7fcf5;\n",
       "            color:  #000000;\n",
       "        }    #T_c72a7c38_3cc7_11ea_a22e_784f4383c922row3_col7 {\n",
       "            background-color:  #f7fcf5;\n",
       "            color:  #000000;\n",
       "        }    #T_c72a7c38_3cc7_11ea_a22e_784f4383c922row3_col8 {\n",
       "            background-color:  #004c1e;\n",
       "            color:  #f1f1f1;\n",
       "        }</style><table id=\"T_c72a7c38_3cc7_11ea_a22e_784f4383c922\" ><thead>    <tr>        <th class=\"blank level0\" ></th>        <th class=\"col_heading level0 col0\" >steps</th>        <th class=\"col_heading level0 col1\" >sessions_cnt</th>        <th class=\"col_heading level0 col2\" >pace_avg</th>        <th class=\"col_heading level0 col3\" >sessions_ttl_s</th>        <th class=\"col_heading level0 col4\" >pace_median</th>        <th class=\"col_heading level0 col5\" >weekday</th>        <th class=\"col_heading level0 col6\" >timezones_today</th>        <th class=\"col_heading level0 col7\" >timezone_changed</th>        <th class=\"col_heading level0 col8\" >label</th>    </tr></thead><tbody>\n",
       "                <tr>\n",
       "                        <th id=\"T_c72a7c38_3cc7_11ea_a22e_784f4383c922level0_row0\" class=\"row_heading level0 row0\" >0</th>\n",
       "                        <td id=\"T_c72a7c38_3cc7_11ea_a22e_784f4383c922row0_col0\" class=\"data row0 col0\" >16059.1</td>\n",
       "                        <td id=\"T_c72a7c38_3cc7_11ea_a22e_784f4383c922row0_col1\" class=\"data row0 col1\" >306.0</td>\n",
       "                        <td id=\"T_c72a7c38_3cc7_11ea_a22e_784f4383c922row0_col2\" class=\"data row0 col2\" >5.6</td>\n",
       "                        <td id=\"T_c72a7c38_3cc7_11ea_a22e_784f4383c922row0_col3\" class=\"data row0 col3\" >23639.4</td>\n",
       "                        <td id=\"T_c72a7c38_3cc7_11ea_a22e_784f4383c922row0_col4\" class=\"data row0 col4\" >1.1</td>\n",
       "                        <td id=\"T_c72a7c38_3cc7_11ea_a22e_784f4383c922row0_col5\" class=\"data row0 col5\" >3.7</td>\n",
       "                        <td id=\"T_c72a7c38_3cc7_11ea_a22e_784f4383c922row0_col6\" class=\"data row0 col6\" >0.0</td>\n",
       "                        <td id=\"T_c72a7c38_3cc7_11ea_a22e_784f4383c922row0_col7\" class=\"data row0 col7\" >0.0</td>\n",
       "                        <td id=\"T_c72a7c38_3cc7_11ea_a22e_784f4383c922row0_col8\" class=\"data row0 col8\" >41.0</td>\n",
       "            </tr>\n",
       "            <tr>\n",
       "                        <th id=\"T_c72a7c38_3cc7_11ea_a22e_784f4383c922level0_row1\" class=\"row_heading level0 row1\" >1</th>\n",
       "                        <td id=\"T_c72a7c38_3cc7_11ea_a22e_784f4383c922row1_col0\" class=\"data row1 col0\" >18047.2</td>\n",
       "                        <td id=\"T_c72a7c38_3cc7_11ea_a22e_784f4383c922row1_col1\" class=\"data row1 col1\" >372.0</td>\n",
       "                        <td id=\"T_c72a7c38_3cc7_11ea_a22e_784f4383c922row1_col2\" class=\"data row1 col2\" >5.6</td>\n",
       "                        <td id=\"T_c72a7c38_3cc7_11ea_a22e_784f4383c922row1_col3\" class=\"data row1 col3\" >27227.2</td>\n",
       "                        <td id=\"T_c72a7c38_3cc7_11ea_a22e_784f4383c922row1_col4\" class=\"data row1 col4\" >1.2</td>\n",
       "                        <td id=\"T_c72a7c38_3cc7_11ea_a22e_784f4383c922row1_col5\" class=\"data row1 col5\" >2.8</td>\n",
       "                        <td id=\"T_c72a7c38_3cc7_11ea_a22e_784f4383c922row1_col6\" class=\"data row1 col6\" >0.0</td>\n",
       "                        <td id=\"T_c72a7c38_3cc7_11ea_a22e_784f4383c922row1_col7\" class=\"data row1 col7\" >1.0</td>\n",
       "                        <td id=\"T_c72a7c38_3cc7_11ea_a22e_784f4383c922row1_col8\" class=\"data row1 col8\" >4.0</td>\n",
       "            </tr>\n",
       "            <tr>\n",
       "                        <th id=\"T_c72a7c38_3cc7_11ea_a22e_784f4383c922level0_row2\" class=\"row_heading level0 row2\" >2</th>\n",
       "                        <td id=\"T_c72a7c38_3cc7_11ea_a22e_784f4383c922row2_col0\" class=\"data row2 col0\" >16254.8</td>\n",
       "                        <td id=\"T_c72a7c38_3cc7_11ea_a22e_784f4383c922row2_col1\" class=\"data row2 col1\" >1132.4</td>\n",
       "                        <td id=\"T_c72a7c38_3cc7_11ea_a22e_784f4383c922row2_col2\" class=\"data row2 col2\" >1.8</td>\n",
       "                        <td id=\"T_c72a7c38_3cc7_11ea_a22e_784f4383c922row2_col3\" class=\"data row2 col3\" >19351.6</td>\n",
       "                        <td id=\"T_c72a7c38_3cc7_11ea_a22e_784f4383c922row2_col4\" class=\"data row2 col4\" >0.8</td>\n",
       "                        <td id=\"T_c72a7c38_3cc7_11ea_a22e_784f4383c922row2_col5\" class=\"data row2 col5\" >2.6</td>\n",
       "                        <td id=\"T_c72a7c38_3cc7_11ea_a22e_784f4383c922row2_col6\" class=\"data row2 col6\" >0.0</td>\n",
       "                        <td id=\"T_c72a7c38_3cc7_11ea_a22e_784f4383c922row2_col7\" class=\"data row2 col7\" >0.0</td>\n",
       "                        <td id=\"T_c72a7c38_3cc7_11ea_a22e_784f4383c922row2_col8\" class=\"data row2 col8\" >13.0</td>\n",
       "            </tr>\n",
       "            <tr>\n",
       "                        <th id=\"T_c72a7c38_3cc7_11ea_a22e_784f4383c922level0_row3\" class=\"row_heading level0 row3\" >3</th>\n",
       "                        <td id=\"T_c72a7c38_3cc7_11ea_a22e_784f4383c922row3_col0\" class=\"data row3 col0\" >11735.5</td>\n",
       "                        <td id=\"T_c72a7c38_3cc7_11ea_a22e_784f4383c922row3_col1\" class=\"data row3 col1\" >211.2</td>\n",
       "                        <td id=\"T_c72a7c38_3cc7_11ea_a22e_784f4383c922row3_col2\" class=\"data row3 col2\" >4.4</td>\n",
       "                        <td id=\"T_c72a7c38_3cc7_11ea_a22e_784f4383c922row3_col3\" class=\"data row3 col3\" >15078.0</td>\n",
       "                        <td id=\"T_c72a7c38_3cc7_11ea_a22e_784f4383c922row3_col4\" class=\"data row3 col4\" >0.9</td>\n",
       "                        <td id=\"T_c72a7c38_3cc7_11ea_a22e_784f4383c922row3_col5\" class=\"data row3 col5\" >2.4</td>\n",
       "                        <td id=\"T_c72a7c38_3cc7_11ea_a22e_784f4383c922row3_col6\" class=\"data row3 col6\" >0.0</td>\n",
       "                        <td id=\"T_c72a7c38_3cc7_11ea_a22e_784f4383c922row3_col7\" class=\"data row3 col7\" >0.0</td>\n",
       "                        <td id=\"T_c72a7c38_3cc7_11ea_a22e_784f4383c922row3_col8\" class=\"data row3 col8\" >40.0</td>\n",
       "            </tr>\n",
       "    </tbody></table>"
      ],
      "text/plain": [
       "<pandas.io.formats.style.Styler at 0x1a1967edd8>"
      ]
     },
     "execution_count": 38,
     "metadata": {},
     "output_type": "execute_result"
    }
   ],
   "source": [
    "km = KMeans(n_clusters = 4, \n",
    "            random_state = 21012020)\n",
    "labels = km.fit_predict(x_sc)\n",
    "df_slice['label'] = labels\n",
    "\n",
    "\n",
    "(df_slice.groupby('label').mean()\n",
    "     .merge(df_slice['label'].value_counts(),\n",
    "            left_index = True,\n",
    "            right_index = True)\n",
    "     .style\n",
    "         .format('{:.1f}')\n",
    "         .background_gradient(cmap = 'Greens')\n",
    ")"
   ]
  },
  {
   "cell_type": "markdown",
   "metadata": {},
   "source": [
    "Результат работы алгоритма кластеризации (на срезе данных без выбросов):\n",
    "0. **41 день «обычный»**: 16К шагов, высокая средняя скорость и общая длительность сессий\n",
    "1. **4 дня «выше среднего»**: самый высокий показатель шагов и длительность; ещё в эти дни (или предыдуший) менялся часовой пояс \n",
    "2. **13 дней тоже «выше среднего»**: стандартные 16К шагов, но количество сессий в три раза выше среднего\n",
    "3. **40 дней «так себе»**: в среднем 12К шагов и 211 сессий в день."
   ]
  },
  {
   "cell_type": "markdown",
   "metadata": {},
   "source": [
    "> _судя по количеству шагов, человек попался очень спортивный: даже в «так себе» дни больше десяти тысяч шагов_"
   ]
  },
  {
   "cell_type": "markdown",
   "metadata": {},
   "source": [
    "Дадим понятные названия кластерам — `usual` и `unusual`. Второй тип ещё дополнительно разделим на `above` и `below` для внутреннего пользования и дебаггинга. "
   ]
  },
  {
   "cell_type": "code",
   "execution_count": 39,
   "metadata": {},
   "outputs": [],
   "source": [
    "df_slice['label'] = df_slice['label'].map({0: 'usual',\n",
    "                                           1: 'unusual (above)',\n",
    "                                           2: 'unusual (above)',\n",
    "                                           3: 'unusual (below)'})"
   ]
  },
  {
   "cell_type": "markdown",
   "metadata": {},
   "source": [
    "~~выведем результат работы алгоритма (пкоа на срезе данных — без выбросов и нулей)~~"
   ]
  },
  {
   "cell_type": "code",
   "execution_count": null,
   "metadata": {},
   "outputs": [],
   "source": [
    "# plt.figure(figsize = (20, 5))\n",
    "\n",
    "# ax = sns.barplot(y = 'steps', \n",
    "#             x = df_slice.index,\n",
    "#             hue = 'label',\n",
    "#             data = df_slice)\n",
    "# plt.gca().set_xticklabels(df_slice.index.strftime('%d-%m-%y, %A'))\n",
    "# plt.gca().set_title('Steps by usual and unusual days (w/o outliers)')\n",
    "\n",
    "# draw_quantiles(df_slice['steps'])\n",
    "\n",
    "# nice_plot()"
   ]
  },
  {
   "cell_type": "markdown",
   "metadata": {},
   "source": [
    "переводим результаты алгоритма из среза обратно в полные данные "
   ]
  },
  {
   "cell_type": "code",
   "execution_count": 41,
   "metadata": {
    "scrolled": true
   },
   "outputs": [],
   "source": [
    "by_days.loc[by_days['result'] == 0, 'result'] = df_slice['label']"
   ]
  },
  {
   "cell_type": "code",
   "execution_count": 42,
   "metadata": {},
   "outputs": [
    {
     "data": {
      "image/png": "[encoded data removed]",
      "text/plain": [
       "<Figure size 1440x360 with 1 Axes>"
      ]
     },
     "metadata": {
      "needs_background": "light"
     },
     "output_type": "display_data"
    }
   ],
   "source": [
    "plt.figure(figsize = (20, 5))\n",
    "\n",
    "ax = sns.barplot(y = 'steps', \n",
    "            x = by_days.index,\n",
    "            hue = 'result',\n",
    "            data = by_days)\n",
    "\n",
    "plt.gca().set_xticklabels(by_days.index.strftime('%d-%m-%y, %A'))\n",
    "plt.gca().set_title('Steps by usual and unusual days (full data)')\n",
    "plt.gca().legend(loc = 'upper left')\n",
    "\n",
    "draw_quantiles(by_days['steps'])\n",
    "\n",
    "# plt.savefig('SMikhailov_Welltory_result', dpi = 100, bbox_inches = 'tight')\n",
    "\n",
    "nice_plot()\n"
   ]
  },
  {
   "cell_type": "markdown",
   "metadata": {},
   "source": [
    "# Вывод\n",
    "\n",
    "\n",
    "Доступны данные с 1 мая по 14 августа 2019 года. Один день пропущен — 28 мая.\n",
    "\n",
    "В период с 29 мая по 22 июля были самые активные дни. Посчитаем их «нормальными».\n",
    "\n",
    "Ещё была поездка на неделю с 1 по 7 июля (не далеко — на один часовой пояс на запад).\n",
    "\n",
    "До 29 мая и после 22 июля было больше всего «так себе» дней. Возможно, что если бы данных было больше, то «нормальными» стали бы как раз такие «так себе» дни, а не «супер-активные с 29.05 по 22.07.\n",
    "\n"
   ]
  },
  {
   "cell_type": "markdown",
   "metadata": {},
   "source": [
    "### Общие мысли о данных\n",
    "\n",
    "Данные реальные. Данные кого-то из Welltory: это проще всего — они самые доступные; и иначе были бы неэтично и странно — делиться данными клиентов.  \n",
    "\n",
    "Этот кто-то живет в московском часовом поясе. Видимо, в Питере — там, где есть офис Welltory.  \n",
    "\n",
    "Возможно, этот кто-то это тот, кому надо послать ноутбук на проверку, кто [1 июля ездил в Хельсинки](https://www.facebook.com/smorodnikova/posts/2526670934033292\n",
    ") :Р \n",
    "\n",
    "Тогда можно предположить, что в мае была очень активная работа над приложением (поэтому снижена активность); потом два месяца отходняк и активного восстановления; и в августе снова в бой.\n"
   ]
  },
  {
   "cell_type": "markdown",
   "metadata": {},
   "source": [
    "## Сделал Саша Михайлов\n",
    "\n",
    "\n",
    "Короткое резюме на [Google Drive](https://docs.google.com/document/d/1JWXxC06veqwTMu_nyUThv1OiIh_xJbSLBti6jRxtPFk/edit?usp=sharing\n",
    "), подробнее — в [блоге](https://sashamikhailov.ru/blog/all/cv/)\n",
    "\n",
    "Телеграм [@SashaMikhailov](https://tlg.name/SashaMikhailov) \n",
    "\n",
    "[Сайт и блог](https://sashamikhailov.ru/blog/) × [Фейсбук](https://www.fb.com/sashamikhailovru) × [GitHub](https://github.com/Sasha-Mikhailov) "
   ]
  }
 ],
 "metadata": {
  "kernelspec": {
   "display_name": "Python 3",
   "language": "python",
   "name": "python3"
  },
  "language_info": {
   "codemirror_mode": {
    "name": "ipython",
    "version": 3
   },
   "file_extension": ".py",
   "mimetype": "text/x-python",
   "name": "python",
   "nbconvert_exporter": "python",
   "pygments_lexer": "ipython3",
   "version": "3.7.6"
  }
 },
 "nbformat": 4,
 "nbformat_minor": 2
}
